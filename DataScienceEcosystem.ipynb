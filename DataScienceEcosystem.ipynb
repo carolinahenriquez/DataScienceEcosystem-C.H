{
 "cells": [
  {
   "cell_type": "markdown",
   "id": "c64ae4bf-ff9d-46b3-85fb-18470c541ab7",
   "metadata": {},
   "source": []
  },
  {
   "cell_type": "markdown",
   "id": "e9f28e6a-30df-4464-aab6-a160bc44cd0c",
   "metadata": {},
   "source": [
    "# Data Science Tools and Ecosystem"
   ]
  },
  {
   "cell_type": "markdown",
   "id": "e1133f34-67d2-41a3-b27f-30c9607c96ad",
   "metadata": {},
   "source": [
    "In this notebook, Data Science Tools and Ecosystem are summarized"
   ]
  },
  {
   "cell_type": "markdown",
   "id": "7abe3961-b7e4-4161-b630-968f89063f28",
   "metadata": {},
   "source": [
    "Some of the popular languages that Data Scientists use are:\n",
    "1. SQL\n",
    "2. Julia\n",
    "3. Python\n",
    "4. R"
   ]
  },
  {
   "cell_type": "markdown",
   "id": "daebde18-04c5-40f9-97cc-3bce49a2fa31",
   "metadata": {},
   "source": [
    "Some of the Commonly used libraries used by Data Scientists include:  \n",
    "\n",
    "1. Numpy\n",
    "2. Pandas\n",
    "3. Matplotlib"
   ]
  },
  {
   "cell_type": "markdown",
   "id": "47d2e148-59b6-4d5a-94f0-30bc550cc9f6",
   "metadata": {},
   "source": [
    "| Data Science Tools |\r\n",
    "|-----------------------------------|\r\n",
    "| Jupyter Notebook                  |\r\n",
    "| RStudio                           |\r\n",
    "| Apache Spark                      |\r\n"
   ]
  },
  {
   "cell_type": "markdown",
   "id": "114bed86-f0c3-4dcf-9938-ac11e01e426d",
   "metadata": {},
   "source": [
    "## Below are few examples of evaluating arithmetic expressions in Python"
   ]
  },
  {
   "cell_type": "code",
   "execution_count": 12,
   "id": "e67c3c05-89a2-4408-867f-43ccb35d2d1f",
   "metadata": {},
   "outputs": [
    {
     "data": {
      "text/plain": [
       "17"
      ]
     },
     "execution_count": 12,
     "metadata": {},
     "output_type": "execute_result"
    }
   ],
   "source": [
    "# This is a simple arithmetic expression to multiply then add integers.\n",
    "result = (3 * 4) + 5\n",
    "result\n"
   ]
  },
  {
   "cell_type": "code",
   "execution_count": 14,
   "id": "e14826f4-100f-4ff5-a3c8-033d4655ecaa",
   "metadata": {},
   "outputs": [
    {
     "data": {
      "text/plain": [
       "3.3333333333333335"
      ]
     },
     "execution_count": 14,
     "metadata": {},
     "output_type": "execute_result"
    }
   ],
   "source": [
    "# This will convert 200 minutes to hours by dividing by 60.\n",
    "hours = 200 / 60\n",
    "hours\n"
   ]
  },
  {
   "cell_type": "markdown",
   "id": "a5478fe2-224d-4292-b169-756e3bfd02ea",
   "metadata": {},
   "source": [
    "**Objectives:**\r\n",
    "- List popular languages for Data Science.\r\n",
    "- List commonly used libraries in Data Science.\r\n",
    "- Provide examples of arithmetic expressions in Python.\r\n",
    "- Introduce Data Science tools.\r\n"
   ]
  },
  {
   "cell_type": "markdown",
   "id": "df89326f-ca39-45fa-adbc-15726252d4c8",
   "metadata": {},
   "source": [
    "## Author\n",
    "\n",
    "Carolina Henriqueze\r\n"
   ]
  },
  {
   "cell_type": "code",
   "execution_count": null,
   "id": "40f283df-d01a-46a8-9cd2-1630d2407368",
   "metadata": {},
   "outputs": [],
   "source": []
  }
 ],
 "metadata": {
  "kernelspec": {
   "display_name": "Python 3 (ipykernel)",
   "language": "python",
   "name": "python3"
  },
  "language_info": {
   "codemirror_mode": {
    "name": "ipython",
    "version": 3
   },
   "file_extension": ".py",
   "mimetype": "text/x-python",
   "name": "python",
   "nbconvert_exporter": "python",
   "pygments_lexer": "ipython3",
   "version": "3.12.4"
  }
 },
 "nbformat": 4,
 "nbformat_minor": 5
}
